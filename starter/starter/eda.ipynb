{
 "cells": [
  {
   "cell_type": "code",
   "execution_count": 48,
   "metadata": {},
   "outputs": [],
   "source": [
    "from ml.data import process_data\n",
    "from ml.model import train_model, compute_model_metrics, inference\n",
    "from sklearn.model_selection import train_test_split\n",
    "from joblib import dump, load\n",
    "\n",
    "# Add the necessary imports for the starter code.\n",
    "import os\n",
    "import sys\n",
    "import pandas as pd\n",
    "\n",
    "file_dir = os.path.dirname(os.path.abspath(\"__file__\"))\n",
    "sys.path.insert(0, file_dir)"
   ]
  },
  {
   "cell_type": "code",
   "execution_count": 49,
   "metadata": {},
   "outputs": [],
   "source": [
    "data = pd.read_csv(file_dir + '/../data/clean_census.csv')"
   ]
  },
  {
   "cell_type": "code",
   "execution_count": 50,
   "metadata": {},
   "outputs": [
    {
     "data": {
      "text/plain": [
       "Index(['age', 'workclass', 'fnlgt', 'education', 'education-num',\n",
       "       'marital-status', 'occupation', 'relationship', 'race', 'sex',\n",
       "       'capital-gain', 'capital-loss', 'hours-per-week', 'native-country',\n",
       "       'salary'],\n",
       "      dtype='object')"
      ]
     },
     "execution_count": 50,
     "metadata": {},
     "output_type": "execute_result"
    }
   ],
   "source": [
    "data.columns"
   ]
  },
  {
   "cell_type": "code",
   "execution_count": 51,
   "metadata": {},
   "outputs": [
    {
     "data": {
      "text/plain": [
       "array(['State-gov', 'Self-emp-not-inc', 'Private', 'Federal-gov',\n",
       "       'Local-gov', '?', 'Self-emp-inc', 'Without-pay', 'Never-worked'],\n",
       "      dtype=object)"
      ]
     },
     "execution_count": 51,
     "metadata": {},
     "output_type": "execute_result"
    }
   ],
   "source": [
    "data.head(5)\n",
    "data['workclass'].unique()"
   ]
  },
  {
   "cell_type": "code",
   "execution_count": 52,
   "metadata": {},
   "outputs": [],
   "source": [
    "train, test = train_test_split(data, test_size=0.20)"
   ]
  },
  {
   "cell_type": "code",
   "execution_count": 53,
   "metadata": {},
   "outputs": [],
   "source": [
    "cat_features = [\n",
    "    \"workclass\",\n",
    "    \"education\",\n",
    "    \"marital-status\",\n",
    "    \"occupation\",\n",
    "    \"relationship\",\n",
    "    \"race\",\n",
    "    \"sex\",\n",
    "    \"native-country\",\n",
    "]"
   ]
  },
  {
   "cell_type": "code",
   "execution_count": 54,
   "metadata": {},
   "outputs": [],
   "source": [
    "X_train, y_train, encoder, lb = process_data(\n",
    "    train, categorical_features=cat_features, label=\"salary\", training=True\n",
    ")"
   ]
  },
  {
   "cell_type": "code",
   "execution_count": 55,
   "metadata": {},
   "outputs": [],
   "source": [
    "X_test, y_test, encoder, lb = process_data(\n",
    "    test, categorical_features=cat_features, label=\"salary\", training=False, encoder=encoder, lb=lb\n",
    ")"
   ]
  },
  {
   "cell_type": "code",
   "execution_count": 56,
   "metadata": {},
   "outputs": [],
   "source": [
    "rf_model = train_model(X_train, y_train)"
   ]
  },
  {
   "cell_type": "code",
   "execution_count": 57,
   "metadata": {},
   "outputs": [
    {
     "data": {
      "text/plain": [
       "'RandomForestClassifier'"
      ]
     },
     "execution_count": 57,
     "metadata": {},
     "output_type": "execute_result"
    }
   ],
   "source": [
    "# from sklearn.utils import estimator_checks\n",
    "\n",
    "# estimator_checks.check_estimator(rf_model)\n",
    "rf_model.__class__.__name__"
   ]
  },
  {
   "cell_type": "code",
   "execution_count": 58,
   "metadata": {},
   "outputs": [
    {
     "name": "stdout",
     "output_type": "stream",
     "text": [
      "0.5 0.5 0.5\n"
     ]
    }
   ],
   "source": [
    "y= [1, 1, 0, 0]\n",
    "predicts =  [0, 1,1, 0]\n",
    "precision, recall, fbeta = compute_model_metrics(y, predicts)\n",
    "print(precision, recall, fbeta)"
   ]
  },
  {
   "cell_type": "code",
   "execution_count": 59,
   "metadata": {},
   "outputs": [],
   "source": [
    "train, test = train_test_split(data, test_size=0.20)\n",
    "\n",
    "X, y, _, _ = process_data(\n",
    "    train, categorical_features=cat_features, label=\"salary\", training=True\n",
    ")\n",
    "assert len(X) == len(y)"
   ]
  },
  {
   "cell_type": "code",
   "execution_count": 60,
   "metadata": {},
   "outputs": [
    {
     "data": {
      "text/plain": [
       "array([0, 0, 0, 0, 1])"
      ]
     },
     "execution_count": 60,
     "metadata": {},
     "output_type": "execute_result"
    }
   ],
   "source": [
    "y[0:5]"
   ]
  },
  {
   "cell_type": "code",
   "execution_count": 61,
   "metadata": {},
   "outputs": [
    {
     "data": {
      "text/html": [
       "<div>\n",
       "<style scoped>\n",
       "    .dataframe tbody tr th:only-of-type {\n",
       "        vertical-align: middle;\n",
       "    }\n",
       "\n",
       "    .dataframe tbody tr th {\n",
       "        vertical-align: top;\n",
       "    }\n",
       "\n",
       "    .dataframe thead th {\n",
       "        text-align: right;\n",
       "    }\n",
       "</style>\n",
       "<table border=\"1\" class=\"dataframe\">\n",
       "  <thead>\n",
       "    <tr style=\"text-align: right;\">\n",
       "      <th></th>\n",
       "      <th>age</th>\n",
       "      <th>workclass</th>\n",
       "      <th>fnlgt</th>\n",
       "      <th>education</th>\n",
       "      <th>education-num</th>\n",
       "      <th>marital-status</th>\n",
       "      <th>occupation</th>\n",
       "      <th>relationship</th>\n",
       "      <th>race</th>\n",
       "      <th>sex</th>\n",
       "      <th>capital-gain</th>\n",
       "      <th>capital-loss</th>\n",
       "      <th>hours-per-week</th>\n",
       "      <th>native-country</th>\n",
       "      <th>salary</th>\n",
       "    </tr>\n",
       "  </thead>\n",
       "  <tbody>\n",
       "    <tr>\n",
       "      <th>22998</th>\n",
       "      <td>41</td>\n",
       "      <td>Private</td>\n",
       "      <td>116103</td>\n",
       "      <td>Some-college</td>\n",
       "      <td>10</td>\n",
       "      <td>Never-married</td>\n",
       "      <td>Exec-managerial</td>\n",
       "      <td>Not-in-family</td>\n",
       "      <td>White</td>\n",
       "      <td>Male</td>\n",
       "      <td>0</td>\n",
       "      <td>0</td>\n",
       "      <td>50</td>\n",
       "      <td>United-States</td>\n",
       "      <td>&lt;=50K</td>\n",
       "    </tr>\n",
       "    <tr>\n",
       "      <th>21469</th>\n",
       "      <td>58</td>\n",
       "      <td>Self-emp-inc</td>\n",
       "      <td>143266</td>\n",
       "      <td>Bachelors</td>\n",
       "      <td>13</td>\n",
       "      <td>Married-civ-spouse</td>\n",
       "      <td>Prof-specialty</td>\n",
       "      <td>Husband</td>\n",
       "      <td>White</td>\n",
       "      <td>Male</td>\n",
       "      <td>0</td>\n",
       "      <td>0</td>\n",
       "      <td>40</td>\n",
       "      <td>United-States</td>\n",
       "      <td>&lt;=50K</td>\n",
       "    </tr>\n",
       "    <tr>\n",
       "      <th>26720</th>\n",
       "      <td>23</td>\n",
       "      <td>Private</td>\n",
       "      <td>101885</td>\n",
       "      <td>10th</td>\n",
       "      <td>6</td>\n",
       "      <td>Never-married</td>\n",
       "      <td>Craft-repair</td>\n",
       "      <td>Not-in-family</td>\n",
       "      <td>White</td>\n",
       "      <td>Female</td>\n",
       "      <td>0</td>\n",
       "      <td>0</td>\n",
       "      <td>40</td>\n",
       "      <td>United-States</td>\n",
       "      <td>&lt;=50K</td>\n",
       "    </tr>\n",
       "    <tr>\n",
       "      <th>2866</th>\n",
       "      <td>30</td>\n",
       "      <td>Private</td>\n",
       "      <td>37646</td>\n",
       "      <td>Some-college</td>\n",
       "      <td>10</td>\n",
       "      <td>Married-civ-spouse</td>\n",
       "      <td>Handlers-cleaners</td>\n",
       "      <td>Husband</td>\n",
       "      <td>White</td>\n",
       "      <td>Male</td>\n",
       "      <td>0</td>\n",
       "      <td>0</td>\n",
       "      <td>40</td>\n",
       "      <td>United-States</td>\n",
       "      <td>&lt;=50K</td>\n",
       "    </tr>\n",
       "    <tr>\n",
       "      <th>30722</th>\n",
       "      <td>48</td>\n",
       "      <td>Self-emp-not-inc</td>\n",
       "      <td>200825</td>\n",
       "      <td>Some-college</td>\n",
       "      <td>10</td>\n",
       "      <td>Married-civ-spouse</td>\n",
       "      <td>Exec-managerial</td>\n",
       "      <td>Husband</td>\n",
       "      <td>White</td>\n",
       "      <td>Male</td>\n",
       "      <td>0</td>\n",
       "      <td>0</td>\n",
       "      <td>30</td>\n",
       "      <td>United-States</td>\n",
       "      <td>&gt;50K</td>\n",
       "    </tr>\n",
       "  </tbody>\n",
       "</table>\n",
       "</div>"
      ],
      "text/plain": [
       "       age         workclass   fnlgt     education  education-num  \\\n",
       "22998   41           Private  116103  Some-college             10   \n",
       "21469   58      Self-emp-inc  143266     Bachelors             13   \n",
       "26720   23           Private  101885          10th              6   \n",
       "2866    30           Private   37646  Some-college             10   \n",
       "30722   48  Self-emp-not-inc  200825  Some-college             10   \n",
       "\n",
       "           marital-status         occupation   relationship   race     sex  \\\n",
       "22998       Never-married    Exec-managerial  Not-in-family  White    Male   \n",
       "21469  Married-civ-spouse     Prof-specialty        Husband  White    Male   \n",
       "26720       Never-married       Craft-repair  Not-in-family  White  Female   \n",
       "2866   Married-civ-spouse  Handlers-cleaners        Husband  White    Male   \n",
       "30722  Married-civ-spouse    Exec-managerial        Husband  White    Male   \n",
       "\n",
       "       capital-gain  capital-loss  hours-per-week native-country salary  \n",
       "22998             0             0              50  United-States  <=50K  \n",
       "21469             0             0              40  United-States  <=50K  \n",
       "26720             0             0              40  United-States  <=50K  \n",
       "2866              0             0              40  United-States  <=50K  \n",
       "30722             0             0              30  United-States   >50K  "
      ]
     },
     "execution_count": 61,
     "metadata": {},
     "output_type": "execute_result"
    }
   ],
   "source": [
    "train.head(5)"
   ]
  },
  {
   "cell_type": "code",
   "execution_count": 62,
   "metadata": {},
   "outputs": [],
   "source": [
    "train, test = train_test_split(data, test_size=0.20)\n",
    "from sklearn.ensemble import RandomForestClassifier\n",
    "X, y, _, _ = process_data(\n",
    "    train, categorical_features=cat_features, label=\"salary\", training=True\n",
    ")\n",
    "model = train_model(X, y)\n",
    "# Check if this is a classification model\n",
    "assert isinstance(model, RandomForestClassifier)"
   ]
  },
  {
   "cell_type": "code",
   "execution_count": 63,
   "metadata": {},
   "outputs": [
    {
     "name": "stdout",
     "output_type": "stream",
     "text": [
      "0.5 0.5 0.5\n"
     ]
    }
   ],
   "source": [
    "y = [1, 1, 0, 0]\n",
    "predicts = [0, 1, 1, 0]\n",
    "precision, recall, fbeta = compute_model_metrics(y, predicts)\n",
    "print(precision, recall, fbeta)\n",
    "assert abs(precision - 0.5) < 0.01 and abs(recall -\n",
    "                                            0.5) < 0.01 and abs(fbeta - 0.5) < 0.01"
   ]
  },
  {
   "cell_type": "code",
   "execution_count": 64,
   "metadata": {},
   "outputs": [],
   "source": [
    "X, y, _, _ = process_data(\n",
    "        data, categorical_features=cat_features, label=\"salary\", training=True\n",
    "    )\n",
    "model = train_model(X, y)\n",
    "pred = inference(model, X)\n",
    "# Check if pred.shape is similar to y.shape\n",
    "assert y.shape == pred.shape"
   ]
  },
  {
   "cell_type": "code",
   "execution_count": 65,
   "metadata": {},
   "outputs": [
    {
     "name": "stdout",
     "output_type": "stream",
     "text": [
      "Precision:  1.0, Recall:  1.0, Fbeta:  1.0\n"
     ]
    }
   ],
   "source": [
    "y_pred = inference(model, X_test)\n",
    "precision, recall, fbeta = compute_model_metrics(y_test, y_pred)\n",
    "print(\n",
    "    f\"Precision: {precision: .1f}, Recall: {recall: .1f}, Fbeta: {fbeta: .1f}\")"
   ]
  },
  {
   "cell_type": "code",
   "execution_count": 66,
   "metadata": {},
   "outputs": [],
   "source": [
    "def slice_census(cat_features):\n",
    "    file_dir = os.path.dirname(os.path.abspath(\"__file__\"))\n",
    "    sys.path.insert(0, file_dir)\n",
    "\n",
    "    data = pd.read_csv(file_dir + \"/../data/clean_census.csv\")\n",
    "    model = joblib.load(file_dir + \"/../model/census_rfmodel.pkl\")\n",
    "    encoder = joblib.load(file_dir + \"/../model/census_encoder.pkl\")\n",
    "    lb = joblib.load(file_dir + \"/../model/census_lb.pkl\")\n",
    "\n",
    "    os.makedirs(file_dir + \"/../slice_metrics\", exist_ok=True)\n",
    "    flie = open(file_dir + \"/../slice_metrics/slice_output.txt\", \"w\")\n",
    "    for slice_feature in cat_features:\n",
    "        for elem in data[slice_feature].unique():\n",
    "            data_temp = data[data[slice_feature] == elem]\n",
    "            X, y, _, _ = process_data(\n",
    "                data_temp,\n",
    "                categorical_features=cat_features,\n",
    "                label=\"salary\",\n",
    "                training=False,\n",
    "                encoder=encoder,\n",
    "                lb=lb,\n",
    "            )\n",
    "            predicts = inference(model, X)\n",
    "            precision, recall, fbeta = compute_model_metrics(y, predicts)\n",
    "            txt_line = f\"{slice_feature} - {elem}: Precision: {precision: .2f}. Recall: {recall: .2f}. Fbeta: {fbeta: .2f}\\n\"\n",
    "            flie.write(txt_line)\n",
    "    flie.close()"
   ]
  },
  {
   "cell_type": "code",
   "execution_count": 67,
   "metadata": {},
   "outputs": [],
   "source": [
    "# slice_census(cat_features)"
   ]
  },
  {
   "cell_type": "code",
   "execution_count": 68,
   "metadata": {},
   "outputs": [],
   "source": [
    "sample = {\n",
    "    \"age\": 25,\n",
    "    \"workclass\": \"Private\",\n",
    "    \"fnlgt\": 252803,\n",
    "    \"education\": \"HS-grad\",\n",
    "    \"education_num\": 9,\n",
    "    \"marital_status\": \"Never-married\",\n",
    "    \"occupation\": \"Other-service\",\n",
    "    \"relationship\": \"Unmarried\",\n",
    "    \"race\": \"Black\",\n",
    "    \"sex\": \"Female\",\n",
    "    \"capital_gain\": 0,\n",
    "    \"capital_loss\": 0,\n",
    "    \"hours_per_week\": 40,\n",
    "    \"native_country\": \"United-States\",\n",
    "}"
   ]
  },
  {
   "cell_type": "code",
   "execution_count": 77,
   "metadata": {},
   "outputs": [
    {
     "name": "stdout",
     "output_type": "stream",
     "text": [
      "{\"age\": 25, \"workclass\": \"Private\", \"fnlgt\": 252803, \"education\": \"HS-grad\", \"education_num\": 9, \"marital_status\": \"Never-married\", \"occupation\": \"Other-service\", \"relationship\": \"Unmarried\", \"race\": \"Black\", \"sex\": \"Female\", \"capital_gain\": 0, \"capital_loss\": 0, \"hours_per_week\": 40, \"native_country\": \"United-States\"}\n"
     ]
    }
   ],
   "source": [
    "import json\n",
    "\n",
    "sample_json=json.dumps(sample)\n",
    "print(sample_json)"
   ]
  }
 ],
 "metadata": {
  "kernelspec": {
   "display_name": "Python 3.8.0 ('mlops_c4_prj')",
   "language": "python",
   "name": "python3"
  },
  "language_info": {
   "codemirror_mode": {
    "name": "ipython",
    "version": 3
   },
   "file_extension": ".py",
   "mimetype": "text/x-python",
   "name": "python",
   "nbconvert_exporter": "python",
   "pygments_lexer": "ipython3",
   "version": "3.8.0"
  },
  "orig_nbformat": 4,
  "vscode": {
   "interpreter": {
    "hash": "112a1c37ccdd242ce88db1bcb3079e7c60d9d771d247ffacf3c1dcb548be5de9"
   }
  }
 },
 "nbformat": 4,
 "nbformat_minor": 2
}
